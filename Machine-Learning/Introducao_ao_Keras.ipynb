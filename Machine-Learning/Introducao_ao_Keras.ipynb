{
  "nbformat": 4,
  "nbformat_minor": 0,
  "metadata": {
    "colab": {
      "name": "Introducao-ao-Keras.ipynb",
      "version": "0.3.2",
      "provenance": [],
      "toc_visible": true
    },
    "kernelspec": {
      "name": "python3",
      "display_name": "Python 3"
    }
  },
  "cells": [
    {
      "cell_type": "markdown",
      "metadata": {
        "id": "JIh0A65DcJUb",
        "colab_type": "text"
      },
      "source": [
        "# Introdução ao Keras\n",
        "\n",
        "Texto adaptado de: https://towardsdatascience.com/introduction-to-deep-learning-with-keras-17c09e4f0eb2.\n",
        "\n",
        "Keras é uma API de redes neurais de alto nível, capaz de rodar em cima do Tensorflow, Thano e CNTK. "
      ]
    },
    {
      "cell_type": "markdown",
      "metadata": {
        "id": "SoyfrWteceo_",
        "colab_type": "text"
      },
      "source": [
        "## Modelos\n",
        "\n",
        "A estrutura fundamental do Keras são os modelos, forma de organizar camadas de redes neurais. O modelo mais simples é o Sequential, com camadas lineares. Neste exemplo estarei utilizando o modelo Sequential com o dataset MNIST, um base de 7000 imagens em escala de cinza 28 x 28 com 10 classes diferentes. Keras dividirá o data set em 6000 instancias de treinamento e 1000 de testes."
      ]
    },
    {
      "cell_type": "code",
      "metadata": {
        "id": "raqzW6XrcB0y",
        "colab_type": "code",
        "colab": {}
      },
      "source": [
        "from keras.datasets import mnist # import mnist dataset\n",
        "\n",
        "(x_train, y_train), (x_test, y_test) = mnist.load_data()"
      ],
      "execution_count": 0,
      "outputs": []
    },
    {
      "cell_type": "code",
      "metadata": {
        "id": "Pel3Wxg5tZZh",
        "colab_type": "code",
        "colab": {}
      },
      "source": [
        "(o_x_train, o_y_train), (o_x_test, o_y_test) = mnist.load_data()"
      ],
      "execution_count": 0,
      "outputs": []
    },
    {
      "cell_type": "code",
      "metadata": {
        "id": "bNktgnDddfsb",
        "colab_type": "code",
        "outputId": "34563d4f-3d55-4586-98a2-98330cdef906",
        "colab": {
          "base_uri": "https://localhost:8080/",
          "height": 34
        }
      },
      "source": [
        "print('Treinamento: %d. Teste: %d ' % (len(y_train), len(y_test)))"
      ],
      "execution_count": 0,
      "outputs": [
        {
          "output_type": "stream",
          "text": [
            "Treinamento: 60000. Teste: 10000 \n"
          ],
          "name": "stdout"
        }
      ]
    },
    {
      "cell_type": "markdown",
      "metadata": {
        "id": "ERc8bJNreDkB",
        "colab_type": "text"
      },
      "source": [
        "Para alimentar uma rede neural convolucional nós transformamos o datafram para 4 dimensões. Isto pode ser feito usando numpy `reshape`. Também vamos transformar dados em `float` e normaliza-los."
      ]
    },
    {
      "cell_type": "code",
      "metadata": {
        "id": "6Z7ROPn3fGA6",
        "colab_type": "code",
        "outputId": "cb451be9-2211-46c6-feeb-732de6e21c8f",
        "colab": {
          "base_uri": "https://localhost:8080/",
          "height": 34
        }
      },
      "source": [
        "x_train.shape"
      ],
      "execution_count": 0,
      "outputs": [
        {
          "output_type": "execute_result",
          "data": {
            "text/plain": [
              "(60000, 28, 28)"
            ]
          },
          "metadata": {
            "tags": []
          },
          "execution_count": 44
        }
      ]
    },
    {
      "cell_type": "code",
      "metadata": {
        "id": "SyfOj8h0efZt",
        "colab_type": "code",
        "colab": {}
      },
      "source": [
        "x_train = x_train.astype('float32')\n",
        "x_test = x_test.astype('float32')\n",
        "x_train /= 255\n",
        "x_test /= 255\n",
        "\n",
        "x_train = x_train.reshape(x_train.shape[0], 28, 28, 1)\n",
        "x_test = x_test.reshape(x_test.shape[0], 28, 28, 1)"
      ],
      "execution_count": 0,
      "outputs": []
    },
    {
      "cell_type": "code",
      "metadata": {
        "id": "jyzrJVhgjon9",
        "colab_type": "code",
        "outputId": "d54b2c67-8423-404d-b687-4fe81e2d3486",
        "colab": {
          "base_uri": "https://localhost:8080/",
          "height": 34
        }
      },
      "source": [
        "x_train.shape"
      ],
      "execution_count": 0,
      "outputs": [
        {
          "output_type": "execute_result",
          "data": {
            "text/plain": [
              "(60000, 28, 28, 1)"
            ]
          },
          "metadata": {
            "tags": []
          },
          "execution_count": 46
        }
      ]
    },
    {
      "cell_type": "markdown",
      "metadata": {
        "id": "8glrZvAYfjxX",
        "colab_type": "text"
      },
      "source": [
        "Também mudaremos nossos rótulos para [one-hot encoding](https://hackernoon.com/what-is-one-hot-encoding-why-and-when-do-you-have-to-use-it-e3c6186d008f) usando `to_categorical`, método do Keras."
      ]
    },
    {
      "cell_type": "code",
      "metadata": {
        "id": "IFXivRu0gNE5",
        "colab_type": "code",
        "outputId": "adbf7bce-871c-49e9-fac6-a9dfdda2687b",
        "colab": {
          "base_uri": "https://localhost:8080/",
          "height": 34
        }
      },
      "source": [
        "y_train"
      ],
      "execution_count": 0,
      "outputs": [
        {
          "output_type": "execute_result",
          "data": {
            "text/plain": [
              "array([5, 0, 4, ..., 5, 6, 8], dtype=uint8)"
            ]
          },
          "metadata": {
            "tags": []
          },
          "execution_count": 29
        }
      ]
    },
    {
      "cell_type": "code",
      "metadata": {
        "id": "PQbaY6AFgDV8",
        "colab_type": "code",
        "colab": {}
      },
      "source": [
        "from keras.utils import to_categorical\n",
        "\n",
        "y_train = to_categorical(y_train, 10)\n",
        "y_test = to_categorical(y_test, 10)"
      ],
      "execution_count": 0,
      "outputs": []
    },
    {
      "cell_type": "code",
      "metadata": {
        "id": "SB3W_QLOgZl2",
        "colab_type": "code",
        "outputId": "d05ccd95-83d0-45f8-a13e-a37061c1a5e0",
        "colab": {
          "base_uri": "https://localhost:8080/",
          "height": 34
        }
      },
      "source": [
        "y_train[1]"
      ],
      "execution_count": 0,
      "outputs": [
        {
          "output_type": "execute_result",
          "data": {
            "text/plain": [
              "array([1., 0., 0., 0., 0., 0., 0., 0., 0., 0.], dtype=float32)"
            ]
          },
          "metadata": {
            "tags": []
          },
          "execution_count": 34
        }
      ]
    },
    {
      "cell_type": "markdown",
      "metadata": {
        "id": "WBoUfBMYgoAY",
        "colab_type": "text"
      },
      "source": [
        "## Criando o modelo"
      ]
    },
    {
      "cell_type": "markdown",
      "metadata": {
        "id": "h7Vsn6iHg_w_",
        "colab_type": "text"
      },
      "source": [
        "Abaixo será criado o modelo de treinamento para o MNIST. É interessante conhecer todos estes conceitos de pooling, convolução... e todas as camadas utilizadas abaixo. [Este tutorial](http://cs231n.github.io/convolutional-networks/) é um bom material para estudo de tais conceitos."
      ]
    },
    {
      "cell_type": "code",
      "metadata": {
        "id": "c30AVoCcjPUb",
        "colab_type": "code",
        "outputId": "061d19c6-e59d-417f-fc2a-87d4ad587f84",
        "colab": {
          "base_uri": "https://localhost:8080/",
          "height": 34
        }
      },
      "source": [
        "x_train.shape"
      ],
      "execution_count": 0,
      "outputs": [
        {
          "output_type": "execute_result",
          "data": {
            "text/plain": [
              "(60000, 28, 28, 1)"
            ]
          },
          "metadata": {
            "tags": []
          },
          "execution_count": 47
        }
      ]
    },
    {
      "cell_type": "code",
      "metadata": {
        "id": "BW2QD0aygrrr",
        "colab_type": "code",
        "colab": {}
      },
      "source": [
        "from keras.models import Sequential\n",
        "from keras.layers import Conv2D, MaxPool2D, Dense, Flatten, Dropout"
      ],
      "execution_count": 0,
      "outputs": []
    },
    {
      "cell_type": "code",
      "metadata": {
        "id": "i28dTvyYgz7n",
        "colab_type": "code",
        "outputId": "4c691313-ecd5-4e99-e624-ac5d3bcf344f",
        "colab": {
          "base_uri": "https://localhost:8080/",
          "height": 139
        }
      },
      "source": [
        "model = Sequential()\n",
        "model.add(Conv2D(filters=32, kernel_size=(5,5), activation='relu', input_shape=x_train.shape[1:]))\n",
        "model.add(Conv2D(filters=32, kernel_size=(5,5), activation='relu'))\n",
        "model.add(MaxPool2D(pool_size=(2, 2)))\n",
        "model.add(Dropout(rate=0.25))\n",
        "model.add(Conv2D(filters=64, kernel_size=(3, 3), activation='relu'))\n",
        "model.add(Conv2D(filters=64, kernel_size=(3, 3), activation='relu'))\n",
        "model.add(MaxPool2D(pool_size=(2, 2)))\n",
        "model.add(Dropout(rate=0.25))\n",
        "model.add(Flatten())\n",
        "model.add(Dense(256, activation='relu'))\n",
        "model.add(Dropout(rate=0.5))\n",
        "model.add(Dense(10, activation='softmax'))"
      ],
      "execution_count": 0,
      "outputs": [
        {
          "output_type": "stream",
          "text": [
            "WARNING:tensorflow:From /usr/local/lib/python3.6/dist-packages/tensorflow/python/framework/op_def_library.py:263: colocate_with (from tensorflow.python.framework.ops) is deprecated and will be removed in a future version.\n",
            "Instructions for updating:\n",
            "Colocations handled automatically by placer.\n",
            "WARNING:tensorflow:From /usr/local/lib/python3.6/dist-packages/keras/backend/tensorflow_backend.py:3445: calling dropout (from tensorflow.python.ops.nn_ops) with keep_prob is deprecated and will be removed in a future version.\n",
            "Instructions for updating:\n",
            "Please use `rate` instead of `keep_prob`. Rate should be set to `rate = 1 - keep_prob`.\n"
          ],
          "name": "stdout"
        }
      ]
    },
    {
      "cell_type": "markdown",
      "metadata": {
        "id": "qIcwIOWNkZ-f",
        "colab_type": "text"
      },
      "source": [
        "Antes de começar o treinamento do nosso modelo precisamos configurar o processo de aprendizado. Para isto, precisaremos especificar um **otimizador**, uma **função de perda** e, opcionalmente, algumas métricas de acuracia.\n",
        "\n",
        "A função de perda ([loss function](https://www.youtube.com/watch?v=IVVVjBSk9N0)) é a medida de quão bom nosso modelo está ao atingir o objetivo dado.\n",
        "\n",
        "O [otimizador](https://towardsdatascience.com/types-of-optimization-algorithms-used-in-neural-networks-and-ways-to-optimize-gradient-95ae5d39529f) é usado para minimizar a função de perda (objetivo) atualizando os pesos usando os gradientes."
      ]
    },
    {
      "cell_type": "code",
      "metadata": {
        "id": "aepI9R_RlWvn",
        "colab_type": "code",
        "colab": {}
      },
      "source": [
        "model.compile(loss='categorical_crossentropy', optimizer='adam', metrics=['accuracy'])"
      ],
      "execution_count": 0,
      "outputs": []
    },
    {
      "cell_type": "markdown",
      "metadata": {
        "id": "6MvsACXrlgBD",
        "colab_type": "text"
      },
      "source": [
        "## Aumentando os dados de imagem"
      ]
    },
    {
      "cell_type": "markdown",
      "metadata": {
        "id": "FFkyRZaJlobd",
        "colab_type": "text"
      },
      "source": [
        "Augmentation é o processo de criar mais dados de um existente. Para imagens você pode adicionar algumas transformações como rotacionar a imagem, dar zoom, adicionar ruído e muitas outras.\n",
        "\n",
        "Isto ajuda a tornar o modelo mais robusto e resolver problemas de não possuir dados suficientes. Keras tem um metodo chamado `ImageDataGenerator` que pode ser usado para aumentar imagens."
      ]
    },
    {
      "cell_type": "code",
      "metadata": {
        "id": "SfuLPXrBlt73",
        "colab_type": "code",
        "colab": {}
      },
      "source": [
        "from keras.preprocessing.image import ImageDataGenerator\n",
        "\n",
        "datagen = ImageDataGenerator(rotation_range=10, zoom_range=0.1, width_shift_range=0.1, height_shift_range=0.1)"
      ],
      "execution_count": 0,
      "outputs": []
    },
    {
      "cell_type": "markdown",
      "metadata": {
        "id": "HEduPJkumTOV",
        "colab_type": "text"
      },
      "source": [
        "Este data generator criará novas imagens que podem ser rotacionadas, aproximadas ou deslocadas para cima ou para baixo."
      ]
    },
    {
      "cell_type": "markdown",
      "metadata": {
        "id": "5SrGM1OHmmSQ",
        "colab_type": "text"
      },
      "source": [
        "## Treinar o modelo"
      ]
    },
    {
      "cell_type": "markdown",
      "metadata": {
        "id": "i8kbrcR6mlV6",
        "colab_type": "text"
      },
      "source": [
        "Agora que definimos e compilamos nosso modelo, ele está pronto para o treinamento. Normalmente utilizariamos o método `fit` para fazer o treinamento, mas como estamos utilizando um datagenerator nós usaremos o `fit_generator` e passaremos nosso gerador, entradas de treinamento, saidas assim como o número de [epochs e batch](https://towardsdatascience.com/epoch-vs-iterations-vs-batch-size-4dfb9c7ce9c9). Também vamos passar um conjunto de validação para que possamos monitorar a perda e acurácia em ambos os conjuntos conforme steps_per_epoch que é requerida quando utilizamos o gerator que é apenas o tamanho do conjunto de treinamento dividido pelo batch_size."
      ]
    },
    {
      "cell_type": "code",
      "metadata": {
        "id": "_2gLGeUtmpEA",
        "colab_type": "code",
        "outputId": "4e486b92-7c53-4c91-86be-30868512f7f9",
        "colab": {
          "base_uri": "https://localhost:8080/",
          "height": 190
        }
      },
      "source": [
        "epochs = 3\n",
        "batch_size = 32\n",
        "history = model.fit_generator(datagen.flow(x_train, y_train, batch_size=batch_size), epochs=epochs,\n",
        "                             validation_data=(x_test, y_test), steps_per_epoch=x_train.shape[0]//batch_size)"
      ],
      "execution_count": 0,
      "outputs": [
        {
          "output_type": "stream",
          "text": [
            "WARNING:tensorflow:From /usr/local/lib/python3.6/dist-packages/tensorflow/python/ops/math_ops.py:3066: to_int32 (from tensorflow.python.ops.math_ops) is deprecated and will be removed in a future version.\n",
            "Instructions for updating:\n",
            "Use tf.cast instead.\n",
            "Epoch 1/3\n",
            "1875/1875 [==============================] - 260s 139ms/step - loss: 0.3387 - acc: 0.8937 - val_loss: 0.0394 - val_acc: 0.9870\n",
            "Epoch 2/3\n",
            "1875/1875 [==============================] - 258s 138ms/step - loss: 0.1166 - acc: 0.9658 - val_loss: 0.0223 - val_acc: 0.9928\n",
            "Epoch 3/3\n",
            "1875/1875 [==============================] - 257s 137ms/step - loss: 0.0919 - acc: 0.9739 - val_loss: 0.0267 - val_acc: 0.9916\n"
          ],
          "name": "stdout"
        }
      ]
    },
    {
      "cell_type": "code",
      "metadata": {
        "id": "iWwSzFOjrJAr",
        "colab_type": "code",
        "colab": {}
      },
      "source": [
        "model.save_weights(\"model.h5\")"
      ],
      "execution_count": 0,
      "outputs": []
    },
    {
      "cell_type": "code",
      "metadata": {
        "id": "p_qYplepromv",
        "colab_type": "code",
        "outputId": "10909e17-1537-426e-bf40-0320a8357302",
        "colab": {
          "base_uri": "https://localhost:8080/",
          "height": 34
        }
      },
      "source": [
        "x_train[:1].shape"
      ],
      "execution_count": 0,
      "outputs": [
        {
          "output_type": "execute_result",
          "data": {
            "text/plain": [
              "(1, 28, 28, 1)"
            ]
          },
          "metadata": {
            "tags": []
          },
          "execution_count": 61
        }
      ]
    },
    {
      "cell_type": "code",
      "metadata": {
        "id": "09RaktxlrTPq",
        "colab_type": "code",
        "outputId": "209eefaa-6a88-43de-fc92-5af5d278382a",
        "colab": {
          "base_uri": "https://localhost:8080/",
          "height": 34
        }
      },
      "source": [
        "model.predict_classes(x_train[:5])"
      ],
      "execution_count": 0,
      "outputs": [
        {
          "output_type": "execute_result",
          "data": {
            "text/plain": [
              "array([5, 0, 4, 1, 9])"
            ]
          },
          "metadata": {
            "tags": []
          },
          "execution_count": 88
        }
      ]
    },
    {
      "cell_type": "code",
      "metadata": {
        "id": "hbuwjXtksTrH",
        "colab_type": "code",
        "colab": {}
      },
      "source": [
        "import matplotlib.pyplot as plt\n",
        "import matplotlib.image as mpimg\n",
        "import numpy as np"
      ],
      "execution_count": 0,
      "outputs": []
    },
    {
      "cell_type": "code",
      "metadata": {
        "id": "92n6PfcMsgsl",
        "colab_type": "code",
        "outputId": "07dad1ef-a389-4bd4-f151-e3415cb93e4f",
        "colab": {
          "base_uri": "https://localhost:8080/",
          "height": 269
        }
      },
      "source": [
        "imgplot = plt.imshow(o_x_train[4])"
      ],
      "execution_count": 0,
      "outputs": [
        {
          "output_type": "display_data",
          "data": {
            "image/png": "[encoded data removed]",
            "text/plain": [
              "<Figure size 432x288 with 1 Axes>"
            ]
          },
          "metadata": {
            "tags": []
          }
        }
      ]
    },
    {
      "cell_type": "code",
      "metadata": {
        "id": "mMOyroqouM9Z",
        "colab_type": "code",
        "outputId": "482c56ff-921e-408c-8953-49ed79a348af",
        "colab": {
          "base_uri": "https://localhost:8080/",
          "height": 286
        }
      },
      "source": [
        "my_six = mpimg.imread('six.png')\n",
        "plt.imshow(my_six)"
      ],
      "execution_count": 0,
      "outputs": [
        {
          "output_type": "execute_result",
          "data": {
            "text/plain": [
              "<matplotlib.image.AxesImage at 0x7fb3ba182438>"
            ]
          },
          "metadata": {
            "tags": []
          },
          "execution_count": 137
        },
        {
          "output_type": "display_data",
          "data": {
            "image/png": "[encoded data removed]",
            "text/plain": [
              "<Figure size 432x288 with 1 Axes>"
            ]
          },
          "metadata": {
            "tags": []
          }
        }
      ]
    },
    {
      "cell_type": "code",
      "metadata": {
        "id": "LZyWMJHhu7o0",
        "colab_type": "code",
        "colab": {}
      },
      "source": [
        "def rgb2gray(rgb):\n",
        "    return np.dot(rgb[...,:3], [0.2989, 0.5870, 0.1140])"
      ],
      "execution_count": 0,
      "outputs": []
    },
    {
      "cell_type": "code",
      "metadata": {
        "id": "IzLAJjkTumEC",
        "colab_type": "code",
        "outputId": "1d62f26c-6246-4b09-e37d-027f41611be4",
        "colab": {
          "base_uri": "https://localhost:8080/",
          "height": 34
        }
      },
      "source": [
        "my_six_rgb = rgb2gray(my_six)\n",
        "my_six_rgb.shape\n",
        "\n",
        "my_six_rgb = my_six_rgb.reshape(1, 28, 28, 1)\n",
        "\n",
        "model.predict_classes([my_six_rgb])"
      ],
      "execution_count": 0,
      "outputs": [
        {
          "output_type": "execute_result",
          "data": {
            "text/plain": [
              "array([6])"
            ]
          },
          "metadata": {
            "tags": []
          },
          "execution_count": 138
        }
      ]
    }
  ]
}